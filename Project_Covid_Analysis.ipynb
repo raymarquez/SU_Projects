{
 "cells": [
  {
   "cell_type": "markdown",
   "metadata": {},
   "source": [
    "## IST652 SCRIPTING FOR DATA ANALYSIS - Project\n",
    "             WHO: Ray Marquez | WHEN: 03-JUN-2020 | PROFESSOR: Debbie Landowski\n",
    "       \n",
    "### OBJECTIVE\n",
    "\n",
    "### DATA SOURCES\n",
    "    1. KAGGLE - COVID cases and deaths at the state level\n",
    "    2. KAGGLE - COVID cases and deaths at the County level\n",
    "    3. NOAA - Weather (surface) Temperatures for 2020 Q1 (during pandemic Q1)\n",
    "\n",
    "### PROCESS OVERVIEW\n",
    "\n"
   ]
  },
  {
   "cell_type": "code",
   "execution_count": 1,
   "metadata": {},
   "outputs": [
    {
     "name": "stdout",
     "output_type": "stream",
     "text": [
      "['excel', 'excel-tab', 'unix']\n"
     ]
    }
   ],
   "source": [
    "# IMPORT  FILES\n",
    "import csv\n",
    "import pandas as pd\n",
    "import matplotlib\n",
    "import matplotlib.pyplot as plt\n",
    "import numpy as np\n",
    "import datetime as dt\n",
    "print (csv.list_dialects())"
   ]
  },
  {
   "cell_type": "markdown",
   "metadata": {},
   "source": [
    "### READ DATA SETS\n",
    "     1. COVID 19 STATE LEVEL\n",
    "     2. COVID 19 COUNTY LEVEL \n",
    "     3. Weather Temperature datasets\n",
    "         a. State Abbreviations and Names\n",
    "         b. Stations\n",
    "         \n",
    "     \n",
    "     "
   ]
  },
  {
   "cell_type": "markdown",
   "metadata": {},
   "source": [
    "##### . . . . . . . . . . READING THE   COVID-19 CASES : AT STATE LEVEL"
   ]
  },
  {
   "cell_type": "code",
   "execution_count": 2,
   "metadata": {},
   "outputs": [
    {
     "name": "stdout",
     "output_type": "stream",
     "text": [
      ">>> Total Number of State Rows : 3,094\n"
     ]
    }
   ],
   "source": [
    "inStateList = []\n",
    "inStateListD = []\n",
    "inStateFile = 'covid-19-state-level-data.csv'\n",
    "\n",
    "with open (inStateFile,'r') as csvfile:\n",
    "    inStateRdr = csv.reader(csvfile, dialect='excel',delimiter=',')\n",
    "    \n",
    "    for line in inStateRdr:\n",
    "        if line [0].startswith ('date'):\n",
    "            continue\n",
    "        else:\n",
    "            try:\n",
    "                inState = {}\n",
    "                inState ['date'] = line [0]\n",
    "                inState ['state'] = line [1]\n",
    "                inState ['fips'] = line [2]\n",
    "                inState ['cases'] = int(line [3])\n",
    "                inState ['deaths'] = int(line [4])\n",
    "                \n",
    "                inStateList.append(line[0:])\n",
    "                inStateListD.append(inState)  \n",
    "                \n",
    "            except IndexError:\n",
    "                print ('index error: ', line)\n",
    "\n",
    "csvfile.close()\n",
    "print ('>>> Total Number of State Rows : {:,d}'.format(len(inStateList)))\n",
    "                \n",
    "        "
   ]
  },
  {
   "cell_type": "markdown",
   "metadata": {},
   "source": [
    "##### . . . . . . . . . . READING THE   COVID-19 CASES : AT COUNTY LEVEL"
   ]
  },
  {
   "cell_type": "code",
   "execution_count": 3,
   "metadata": {},
   "outputs": [
    {
     "name": "stdout",
     "output_type": "stream",
     "text": [
      ">>> Total Number of County Rows : 95,420\n"
     ]
    }
   ],
   "source": [
    "inCountyList = []\n",
    "inCountyListD = []\n",
    "inCountyFile = 'covid-19-county-level-data.csv'\n",
    "\n",
    "with open (inCountyFile,'r') as csvfile:\n",
    "    inCountyRdr = csv.reader(csvfile, dialect='excel',delimiter=',')\n",
    "    \n",
    "    for line in inCountyRdr:\n",
    "        if line [0].startswith ('date'):\n",
    "            continue\n",
    "        else:\n",
    "            try:\n",
    "                inCounty = {}\n",
    "                inCounty ['date'] = line [0]\n",
    "                inCounty ['county'] = line [1]\n",
    "                inCounty ['state'] = line [2]\n",
    "                inCounty ['fips'] = line [3]\n",
    "                inCounty ['cases'] = int(line [4])\n",
    "                inCounty ['deaths'] = int(line [5])\n",
    "                \n",
    "                inCountyList.append(line[0:])\n",
    "                inCountyListD.append(inCounty)  \n",
    "                \n",
    "            except IndexError:\n",
    "                print ('index error: ', line)\n",
    "\n",
    "csvfile.close()\n",
    "print ('>>> Total Number of County Rows : {:,d}'.format(len(inCountyList)))"
   ]
  },
  {
   "cell_type": "markdown",
   "metadata": {},
   "source": [
    "##### . . . . . . . . . . READING THE WEATHER DATASET: State Names and Abbreviations"
   ]
  },
  {
   "cell_type": "code",
   "execution_count": 4,
   "metadata": {},
   "outputs": [
    {
     "name": "stdout",
     "output_type": "stream",
     "text": [
      ">>> Total Number of State Name Rows : 74\n"
     ]
    }
   ],
   "source": [
    "inStNameList = []\n",
    "inStNameListD = []\n",
    "inStNameFile = '01-ghcnd-states.txt'\n",
    "\n",
    "with open (inStNameFile,'r') as csvfile:\n",
    "    inStNameRdr = csv.reader(csvfile, dialect='excel',delimiter=' ')\n",
    "    \n",
    "    for line in inStNameRdr:\n",
    "        if line [0].startswith ('date'):\n",
    "            continue\n",
    "        else:\n",
    "            try:\n",
    "                inStName = {}\n",
    "                inStName ['st'] = line [0]\n",
    "                inStName ['state'] = line [1]\n",
    "                \n",
    "                inStNameList.append(line[0:])\n",
    "                inStNameListD.append(inStName)  \n",
    "                \n",
    "            except IndexError:\n",
    "                print ('index error: ', line)\n",
    "\n",
    "csvfile.close()\n",
    "print ('>>> Total Number of State Name Rows : {:,d}'.format(len(inStNameList)))"
   ]
  },
  {
   "cell_type": "markdown",
   "metadata": {},
   "source": [
    "##### . . . . . . . . . . READING THE WEATHER DATASET: STATIONS ID, LAT/LONG, ELEVATION"
   ]
  },
  {
   "cell_type": "code",
   "execution_count": 5,
   "metadata": {},
   "outputs": [
    {
     "name": "stdout",
     "output_type": "stream",
     "text": [
      ">>> Total Number of Station Rows : 115,082\n"
     ]
    }
   ],
   "source": [
    "inStationList = []\n",
    "inStationListD = []\n",
    "inStationFile = '02-ghcnd-stations-v2.txt'\n",
    "#readIdxErr = 0\n",
    "\n",
    "with open (inStationFile,'r') as csvfile:\n",
    "    inStationRdr = csv.reader(csvfile, dialect='excel',delimiter='\\t')\n",
    "    \n",
    "    for line in inStationRdr:\n",
    "        if line [0].startswith ('date'):\n",
    "            continue\n",
    "        else:\n",
    "            try:\n",
    "                inStation = {}\n",
    "\n",
    "                inStation ['id'] = line [0]\n",
    "                inStation ['lat'] = line [1]\n",
    "                inStation ['long'] = line [2]\n",
    "                inStation ['elev'] = line [3]\n",
    "                inStation ['st'] = line [4]\n",
    "                \n",
    "                # -------------------------------------------------------------------------------------\n",
    "                # The file came in with space or spaces as delimiter. Where there are more than one\n",
    "                # space in between data points, data is not aligned when evaluating the resuling df.\n",
    "                # This logic will parse through each line of the file and look for the first 4 data points\n",
    "                # which covers the ID, Latitude, Longitude and Elevation.The rest of the data are more\n",
    "                # inconsistently available and are not useful for the data analysis. It will be ignored\n",
    "                \n",
    "                #x = 0\n",
    "                #i = 0\n",
    "                #while x < 12 or i > 4:\n",
    "                #    if line[x] == \"\":\n",
    "                #        x += 1\n",
    "                #        continue\n",
    "                #    else:\n",
    "                #        if line[x] == \" \":\n",
    "                #            x += 1\n",
    "                #            continue\n",
    "                #        else:\n",
    "                #            inStation [i] = line [x]\n",
    "                #            x += 1\n",
    "                #            i += 1\n",
    "                            \n",
    "                # -------------------------------------------------------------------------------------\n",
    "                \n",
    "                inStationList.append(line[0:])\n",
    "                inStationListD.append(inStation)  \n",
    "                \n",
    "            except IndexError:\n",
    "                print ('index error: ', line)\n",
    "                #readIdxErr += 1\n",
    "                #continue\n",
    "\n",
    "csvfile.close()\n",
    "print ('>>> Total Number of Station Rows : {:,d}'.format(len(inStationList)))"
   ]
  },
  {
   "cell_type": "markdown",
   "metadata": {},
   "source": [
    "##### . . . . . . . . . . READING THE WEATHER DATASET: AVERAGE TEMPERATURE READINGS"
   ]
  },
  {
   "cell_type": "code",
   "execution_count": 54,
   "metadata": {},
   "outputs": [
    {
     "name": "stdout",
     "output_type": "stream",
     "text": [
      ">>> Total Number of Average Temp Rows : 888,217\n"
     ]
    }
   ],
   "source": [
    "inTavgList = []\n",
    "inTavgListD = []\n",
    "inTavgFile = '04-ghcnd-tavg.csv'\n",
    "#inTavgFile = 'data3.csv'\n",
    "\n",
    "with open (inTavgFile,'r') as csvfile:\n",
    "    inTavgRdr = csv.reader(csvfile, dialect='excel',delimiter=',')\n",
    "    \n",
    "    for line in inTavgRdr:\n",
    "        if line [0].startswith ('id'):\n",
    "            continue\n",
    "        else:\n",
    "            try:\n",
    "                inTavg = {}\n",
    "                #inField = (line[0],\"'\")\n",
    "                #inTavg ['id'] = inField\n",
    "                inTavg ['id'] = line [0]\n",
    "                inTavg ['date'] = line [1]\n",
    "                inTavg ['element'] = line [2]\n",
    "                inTavg ['value'] = int(line [3])\n",
    "                #inTavg ['mflag'] = line [4]\n",
    "                #inTavg ['qflag'] = line [5]\n",
    "                #inTavg ['sflag'] = line [6]             \n",
    "                \n",
    "                inTavgList.append(line[0:])\n",
    "                inTavgListD.append(inTavg)  \n",
    "                \n",
    "            except IndexError:\n",
    "                print ('index error: ', line)\n",
    "\n",
    "csvfile.close()\n",
    "print ('>>> Total Number of Average Temp Rows : {:,d}'.format(len(inTavgList)))"
   ]
  },
  {
   "cell_type": "markdown",
   "metadata": {},
   "source": [
    "### EXPLORING THE STATE DATA"
   ]
  },
  {
   "cell_type": "code",
   "execution_count": 7,
   "metadata": {},
   "outputs": [
    {
     "data": {
      "text/html": [
       "<div>\n",
       "<style scoped>\n",
       "    .dataframe tbody tr th:only-of-type {\n",
       "        vertical-align: middle;\n",
       "    }\n",
       "\n",
       "    .dataframe tbody tr th {\n",
       "        vertical-align: top;\n",
       "    }\n",
       "\n",
       "    .dataframe thead th {\n",
       "        text-align: right;\n",
       "    }\n",
       "</style>\n",
       "<table border=\"1\" class=\"dataframe\">\n",
       "  <thead>\n",
       "    <tr style=\"text-align: right;\">\n",
       "      <th></th>\n",
       "      <th>date</th>\n",
       "      <th>state</th>\n",
       "      <th>fips</th>\n",
       "      <th>cases</th>\n",
       "      <th>deaths</th>\n",
       "    </tr>\n",
       "  </thead>\n",
       "  <tbody>\n",
       "    <tr>\n",
       "      <th>0</th>\n",
       "      <td>2020-01-21</td>\n",
       "      <td>Washington</td>\n",
       "      <td>53</td>\n",
       "      <td>1</td>\n",
       "      <td>0</td>\n",
       "    </tr>\n",
       "    <tr>\n",
       "      <th>1</th>\n",
       "      <td>2020-01-22</td>\n",
       "      <td>Washington</td>\n",
       "      <td>53</td>\n",
       "      <td>1</td>\n",
       "      <td>0</td>\n",
       "    </tr>\n",
       "    <tr>\n",
       "      <th>2</th>\n",
       "      <td>2020-01-23</td>\n",
       "      <td>Washington</td>\n",
       "      <td>53</td>\n",
       "      <td>1</td>\n",
       "      <td>0</td>\n",
       "    </tr>\n",
       "    <tr>\n",
       "      <th>3</th>\n",
       "      <td>2020-01-24</td>\n",
       "      <td>Illinois</td>\n",
       "      <td>17</td>\n",
       "      <td>1</td>\n",
       "      <td>0</td>\n",
       "    </tr>\n",
       "    <tr>\n",
       "      <th>4</th>\n",
       "      <td>2020-01-24</td>\n",
       "      <td>Washington</td>\n",
       "      <td>53</td>\n",
       "      <td>1</td>\n",
       "      <td>0</td>\n",
       "    </tr>\n",
       "  </tbody>\n",
       "</table>\n",
       "</div>"
      ],
      "text/plain": [
       "         date       state fips cases deaths\n",
       "0  2020-01-21  Washington   53     1      0\n",
       "1  2020-01-22  Washington   53     1      0\n",
       "2  2020-01-23  Washington   53     1      0\n",
       "3  2020-01-24    Illinois   17     1      0\n",
       "4  2020-01-24  Washington   53     1      0"
      ]
     },
     "execution_count": 7,
     "metadata": {},
     "output_type": "execute_result"
    }
   ],
   "source": [
    "stDF = pd.DataFrame(inStateList)                        # turn the list into a data frame\n",
    "stDF.columns=[\"date\",\"state\",\"fips\",\"cases\",\"deaths\"]   # assign column names\n",
    "stDF.head()"
   ]
  },
  {
   "cell_type": "code",
   "execution_count": 8,
   "metadata": {},
   "outputs": [
    {
     "data": {
      "text/html": [
       "<div>\n",
       "<style scoped>\n",
       "    .dataframe tbody tr th:only-of-type {\n",
       "        vertical-align: middle;\n",
       "    }\n",
       "\n",
       "    .dataframe tbody tr th {\n",
       "        vertical-align: top;\n",
       "    }\n",
       "\n",
       "    .dataframe thead th {\n",
       "        text-align: right;\n",
       "    }\n",
       "</style>\n",
       "<table border=\"1\" class=\"dataframe\">\n",
       "  <thead>\n",
       "    <tr style=\"text-align: right;\">\n",
       "      <th></th>\n",
       "      <th>date</th>\n",
       "      <th>state</th>\n",
       "      <th>fips</th>\n",
       "      <th>cases</th>\n",
       "      <th>deaths</th>\n",
       "    </tr>\n",
       "  </thead>\n",
       "  <tbody>\n",
       "    <tr>\n",
       "      <th>count</th>\n",
       "      <td>3094</td>\n",
       "      <td>3094</td>\n",
       "      <td>3094</td>\n",
       "      <td>3094</td>\n",
       "      <td>3094</td>\n",
       "    </tr>\n",
       "    <tr>\n",
       "      <th>unique</th>\n",
       "      <td>98</td>\n",
       "      <td>55</td>\n",
       "      <td>55</td>\n",
       "      <td>1769</td>\n",
       "      <td>591</td>\n",
       "    </tr>\n",
       "    <tr>\n",
       "      <th>top</th>\n",
       "      <td>2020-03-30</td>\n",
       "      <td>Washington</td>\n",
       "      <td>53</td>\n",
       "      <td>1</td>\n",
       "      <td>0</td>\n",
       "    </tr>\n",
       "    <tr>\n",
       "      <th>freq</th>\n",
       "      <td>55</td>\n",
       "      <td>98</td>\n",
       "      <td>98</td>\n",
       "      <td>216</td>\n",
       "      <td>956</td>\n",
       "    </tr>\n",
       "  </tbody>\n",
       "</table>\n",
       "</div>"
      ],
      "text/plain": [
       "              date       state  fips cases deaths\n",
       "count         3094        3094  3094  3094   3094\n",
       "unique          98          55    55  1769    591\n",
       "top     2020-03-30  Washington    53     1      0\n",
       "freq            55          98    98   216    956"
      ]
     },
     "execution_count": 8,
     "metadata": {},
     "output_type": "execute_result"
    }
   ],
   "source": [
    "stDF.describe()         # looking at the summary of each column"
   ]
  },
  {
   "cell_type": "code",
   "execution_count": 9,
   "metadata": {},
   "outputs": [
    {
     "data": {
      "text/plain": [
       "date      3094\n",
       "state     3094\n",
       "fips      3094\n",
       "cases     3094\n",
       "deaths    3094\n",
       "dtype: int64"
      ]
     },
     "execution_count": 9,
     "metadata": {},
     "output_type": "execute_result"
    }
   ],
   "source": [
    "stDF.count()           # doing a count to confirm that nothing is missing"
   ]
  },
  {
   "cell_type": "code",
   "execution_count": 10,
   "metadata": {},
   "outputs": [
    {
     "data": {
      "text/html": [
       "<div>\n",
       "<style scoped>\n",
       "    .dataframe tbody tr th:only-of-type {\n",
       "        vertical-align: middle;\n",
       "    }\n",
       "\n",
       "    .dataframe tbody tr th {\n",
       "        vertical-align: top;\n",
       "    }\n",
       "\n",
       "    .dataframe thead th {\n",
       "        text-align: right;\n",
       "    }\n",
       "</style>\n",
       "<table border=\"1\" class=\"dataframe\">\n",
       "  <thead>\n",
       "    <tr style=\"text-align: right;\">\n",
       "      <th></th>\n",
       "      <th>cases</th>\n",
       "      <th>date</th>\n",
       "      <th>deaths</th>\n",
       "      <th>fips</th>\n",
       "      <th>state</th>\n",
       "    </tr>\n",
       "  </thead>\n",
       "  <tbody>\n",
       "    <tr>\n",
       "      <th>0</th>\n",
       "      <td>1</td>\n",
       "      <td>2020-01-21</td>\n",
       "      <td>0</td>\n",
       "      <td>53</td>\n",
       "      <td>Washington</td>\n",
       "    </tr>\n",
       "    <tr>\n",
       "      <th>1</th>\n",
       "      <td>1</td>\n",
       "      <td>2020-01-22</td>\n",
       "      <td>0</td>\n",
       "      <td>53</td>\n",
       "      <td>Washington</td>\n",
       "    </tr>\n",
       "    <tr>\n",
       "      <th>2</th>\n",
       "      <td>1</td>\n",
       "      <td>2020-01-23</td>\n",
       "      <td>0</td>\n",
       "      <td>53</td>\n",
       "      <td>Washington</td>\n",
       "    </tr>\n",
       "    <tr>\n",
       "      <th>3</th>\n",
       "      <td>1</td>\n",
       "      <td>2020-01-24</td>\n",
       "      <td>0</td>\n",
       "      <td>17</td>\n",
       "      <td>Illinois</td>\n",
       "    </tr>\n",
       "    <tr>\n",
       "      <th>4</th>\n",
       "      <td>1</td>\n",
       "      <td>2020-01-24</td>\n",
       "      <td>0</td>\n",
       "      <td>53</td>\n",
       "      <td>Washington</td>\n",
       "    </tr>\n",
       "  </tbody>\n",
       "</table>\n",
       "</div>"
      ],
      "text/plain": [
       "   cases        date  deaths fips       state\n",
       "0      1  2020-01-21       0   53  Washington\n",
       "1      1  2020-01-22       0   53  Washington\n",
       "2      1  2020-01-23       0   53  Washington\n",
       "3      1  2020-01-24       0   17    Illinois\n",
       "4      1  2020-01-24       0   53  Washington"
      ]
     },
     "execution_count": 10,
     "metadata": {},
     "output_type": "execute_result"
    }
   ],
   "source": [
    "stateDF = pd.DataFrame(inStateListD)                    # turn list of dictionaries into a data frame\n",
    "#stateDF = stateDF.set_index(\"date\")                    # set an index\n",
    "stateDF.head()"
   ]
  },
  {
   "cell_type": "code",
   "execution_count": 11,
   "metadata": {},
   "outputs": [
    {
     "data": {
      "text/html": [
       "<div>\n",
       "<style scoped>\n",
       "    .dataframe tbody tr th:only-of-type {\n",
       "        vertical-align: middle;\n",
       "    }\n",
       "\n",
       "    .dataframe tbody tr th {\n",
       "        vertical-align: top;\n",
       "    }\n",
       "\n",
       "    .dataframe thead th {\n",
       "        text-align: right;\n",
       "    }\n",
       "</style>\n",
       "<table border=\"1\" class=\"dataframe\">\n",
       "  <thead>\n",
       "    <tr style=\"text-align: right;\">\n",
       "      <th></th>\n",
       "      <th>cases</th>\n",
       "      <th>deaths</th>\n",
       "    </tr>\n",
       "  </thead>\n",
       "  <tbody>\n",
       "    <tr>\n",
       "      <th>count</th>\n",
       "      <td>3094.00000</td>\n",
       "      <td>3094.000000</td>\n",
       "    </tr>\n",
       "    <tr>\n",
       "      <th>mean</th>\n",
       "      <td>5648.32159</td>\n",
       "      <td>240.653846</td>\n",
       "    </tr>\n",
       "    <tr>\n",
       "      <th>std</th>\n",
       "      <td>21357.34818</td>\n",
       "      <td>1144.787845</td>\n",
       "    </tr>\n",
       "    <tr>\n",
       "      <th>min</th>\n",
       "      <td>1.00000</td>\n",
       "      <td>0.000000</td>\n",
       "    </tr>\n",
       "    <tr>\n",
       "      <th>25%</th>\n",
       "      <td>27.00000</td>\n",
       "      <td>0.000000</td>\n",
       "    </tr>\n",
       "    <tr>\n",
       "      <th>50%</th>\n",
       "      <td>485.50000</td>\n",
       "      <td>8.000000</td>\n",
       "    </tr>\n",
       "    <tr>\n",
       "      <th>75%</th>\n",
       "      <td>3017.75000</td>\n",
       "      <td>85.750000</td>\n",
       "    </tr>\n",
       "    <tr>\n",
       "      <th>max</th>\n",
       "      <td>292027.00000</td>\n",
       "      <td>17303.000000</td>\n",
       "    </tr>\n",
       "  </tbody>\n",
       "</table>\n",
       "</div>"
      ],
      "text/plain": [
       "              cases        deaths\n",
       "count    3094.00000   3094.000000\n",
       "mean     5648.32159    240.653846\n",
       "std     21357.34818   1144.787845\n",
       "min         1.00000      0.000000\n",
       "25%        27.00000      0.000000\n",
       "50%       485.50000      8.000000\n",
       "75%      3017.75000     85.750000\n",
       "max    292027.00000  17303.000000"
      ]
     },
     "execution_count": 11,
     "metadata": {},
     "output_type": "execute_result"
    }
   ],
   "source": [
    "stateDF.describe()                               # do summary of each column"
   ]
  },
  {
   "cell_type": "code",
   "execution_count": 12,
   "metadata": {},
   "outputs": [
    {
     "data": {
      "text/plain": [
       "cases     3094\n",
       "date      3094\n",
       "deaths    3094\n",
       "fips      3094\n",
       "state     3094\n",
       "dtype: int64"
      ]
     },
     "execution_count": 12,
     "metadata": {},
     "output_type": "execute_result"
    }
   ],
   "source": [
    "stateDF.count()                  # check for missing data"
   ]
  },
  {
   "cell_type": "code",
   "execution_count": 13,
   "metadata": {},
   "outputs": [
    {
     "name": "stdout",
     "output_type": "stream",
     "text": [
      " \n",
      ">>> total rows read for state file      -  3094\n",
      " \n",
      ">>> earliest date (for all states)      -  2020-01-21\n",
      " \n",
      ">>> latest date (for all states)        -  2020-04-27\n",
      " \n",
      ">>> number of available in the data set -  55  ***\n"
     ]
    }
   ],
   "source": [
    "# Evaluate date column\n",
    "ALLminDT = min(stateDF['date'])\n",
    "ALLmaxDT = max(stateDF['date'])\n",
    "\n",
    "# Evaluate the state column\n",
    "ALLState = set(stateDF['state'])        # get unique list of states\n",
    "ALLState                                # this list reveals \"states\" that can be dropped\n",
    "NUMState = len(ALLState)                # total count is 55. should be 50 max\n",
    "\n",
    "print (' \\n>>> total rows read for state file      - ', len(inStateList))\n",
    "print (' \\n>>> earliest date (for all states)      - ', ALLminDT)\n",
    "print (' \\n>>> latest date (for all states)        - ', ALLmaxDT)\n",
    "print (' \\n>>> number of available in the data set - ', NUMState, ' ***')\n"
   ]
  },
  {
   "cell_type": "markdown",
   "metadata": {},
   "source": [
    "### EXPLORING THE COUNTY DATA"
   ]
  },
  {
   "cell_type": "code",
   "execution_count": 14,
   "metadata": {},
   "outputs": [
    {
     "data": {
      "text/html": [
       "<div>\n",
       "<style scoped>\n",
       "    .dataframe tbody tr th:only-of-type {\n",
       "        vertical-align: middle;\n",
       "    }\n",
       "\n",
       "    .dataframe tbody tr th {\n",
       "        vertical-align: top;\n",
       "    }\n",
       "\n",
       "    .dataframe thead th {\n",
       "        text-align: right;\n",
       "    }\n",
       "</style>\n",
       "<table border=\"1\" class=\"dataframe\">\n",
       "  <thead>\n",
       "    <tr style=\"text-align: right;\">\n",
       "      <th></th>\n",
       "      <th>cases</th>\n",
       "      <th>county</th>\n",
       "      <th>date</th>\n",
       "      <th>deaths</th>\n",
       "      <th>fips</th>\n",
       "      <th>state</th>\n",
       "    </tr>\n",
       "  </thead>\n",
       "  <tbody>\n",
       "    <tr>\n",
       "      <th>0</th>\n",
       "      <td>1</td>\n",
       "      <td>Snohomish</td>\n",
       "      <td>2020-01-21</td>\n",
       "      <td>0</td>\n",
       "      <td>53061</td>\n",
       "      <td>Washington</td>\n",
       "    </tr>\n",
       "    <tr>\n",
       "      <th>1</th>\n",
       "      <td>1</td>\n",
       "      <td>Snohomish</td>\n",
       "      <td>2020-01-22</td>\n",
       "      <td>0</td>\n",
       "      <td>53061</td>\n",
       "      <td>Washington</td>\n",
       "    </tr>\n",
       "    <tr>\n",
       "      <th>2</th>\n",
       "      <td>1</td>\n",
       "      <td>Snohomish</td>\n",
       "      <td>2020-01-23</td>\n",
       "      <td>0</td>\n",
       "      <td>53061</td>\n",
       "      <td>Washington</td>\n",
       "    </tr>\n",
       "    <tr>\n",
       "      <th>3</th>\n",
       "      <td>1</td>\n",
       "      <td>Cook</td>\n",
       "      <td>2020-01-24</td>\n",
       "      <td>0</td>\n",
       "      <td>17031</td>\n",
       "      <td>Illinois</td>\n",
       "    </tr>\n",
       "    <tr>\n",
       "      <th>4</th>\n",
       "      <td>1</td>\n",
       "      <td>Snohomish</td>\n",
       "      <td>2020-01-24</td>\n",
       "      <td>0</td>\n",
       "      <td>53061</td>\n",
       "      <td>Washington</td>\n",
       "    </tr>\n",
       "  </tbody>\n",
       "</table>\n",
       "</div>"
      ],
      "text/plain": [
       "   cases     county        date  deaths   fips       state\n",
       "0      1  Snohomish  2020-01-21       0  53061  Washington\n",
       "1      1  Snohomish  2020-01-22       0  53061  Washington\n",
       "2      1  Snohomish  2020-01-23       0  53061  Washington\n",
       "3      1       Cook  2020-01-24       0  17031    Illinois\n",
       "4      1  Snohomish  2020-01-24       0  53061  Washington"
      ]
     },
     "execution_count": 14,
     "metadata": {},
     "output_type": "execute_result"
    }
   ],
   "source": [
    "countyDF = pd.DataFrame(inCountyListD)                    # turn list of dictionaries into a data frame\n",
    "#countyDF = countyDF.set_index(\"date\")                    # set an index\n",
    "countyDF.head()"
   ]
  },
  {
   "cell_type": "code",
   "execution_count": 15,
   "metadata": {},
   "outputs": [
    {
     "data": {
      "text/html": [
       "<div>\n",
       "<style scoped>\n",
       "    .dataframe tbody tr th:only-of-type {\n",
       "        vertical-align: middle;\n",
       "    }\n",
       "\n",
       "    .dataframe tbody tr th {\n",
       "        vertical-align: top;\n",
       "    }\n",
       "\n",
       "    .dataframe thead th {\n",
       "        text-align: right;\n",
       "    }\n",
       "</style>\n",
       "<table border=\"1\" class=\"dataframe\">\n",
       "  <thead>\n",
       "    <tr style=\"text-align: right;\">\n",
       "      <th></th>\n",
       "      <th>cases</th>\n",
       "      <th>deaths</th>\n",
       "    </tr>\n",
       "  </thead>\n",
       "  <tbody>\n",
       "    <tr>\n",
       "      <th>count</th>\n",
       "      <td>95420.000000</td>\n",
       "      <td>95420.000000</td>\n",
       "    </tr>\n",
       "    <tr>\n",
       "      <th>mean</th>\n",
       "      <td>183.165510</td>\n",
       "      <td>7.799382</td>\n",
       "    </tr>\n",
       "    <tr>\n",
       "      <th>std</th>\n",
       "      <td>2180.791781</td>\n",
       "      <td>140.176983</td>\n",
       "    </tr>\n",
       "    <tr>\n",
       "      <th>min</th>\n",
       "      <td>0.000000</td>\n",
       "      <td>0.000000</td>\n",
       "    </tr>\n",
       "    <tr>\n",
       "      <th>25%</th>\n",
       "      <td>3.000000</td>\n",
       "      <td>0.000000</td>\n",
       "    </tr>\n",
       "    <tr>\n",
       "      <th>50%</th>\n",
       "      <td>9.000000</td>\n",
       "      <td>0.000000</td>\n",
       "    </tr>\n",
       "    <tr>\n",
       "      <th>75%</th>\n",
       "      <td>38.000000</td>\n",
       "      <td>1.000000</td>\n",
       "    </tr>\n",
       "    <tr>\n",
       "      <th>max</th>\n",
       "      <td>160499.000000</td>\n",
       "      <td>11857.000000</td>\n",
       "    </tr>\n",
       "  </tbody>\n",
       "</table>\n",
       "</div>"
      ],
      "text/plain": [
       "               cases        deaths\n",
       "count   95420.000000  95420.000000\n",
       "mean      183.165510      7.799382\n",
       "std      2180.791781    140.176983\n",
       "min         0.000000      0.000000\n",
       "25%         3.000000      0.000000\n",
       "50%         9.000000      0.000000\n",
       "75%        38.000000      1.000000\n",
       "max    160499.000000  11857.000000"
      ]
     },
     "execution_count": 15,
     "metadata": {},
     "output_type": "execute_result"
    }
   ],
   "source": [
    "countyDF.describe()"
   ]
  },
  {
   "cell_type": "code",
   "execution_count": 16,
   "metadata": {},
   "outputs": [
    {
     "data": {
      "text/plain": [
       "cases     95420\n",
       "county    95420\n",
       "date      95420\n",
       "deaths    95420\n",
       "fips      95420\n",
       "state     95420\n",
       "dtype: int64"
      ]
     },
     "execution_count": 16,
     "metadata": {},
     "output_type": "execute_result"
    }
   ],
   "source": [
    "countyDF.count()"
   ]
  },
  {
   "cell_type": "code",
   "execution_count": 17,
   "metadata": {},
   "outputs": [
    {
     "name": "stdout",
     "output_type": "stream",
     "text": [
      " \n",
      ">>> total rows read for county file     -  95420\n",
      " \n",
      ">>> earliest date (for all countys)     -  2020-01-21\n",
      " \n",
      ">>> latest date (for all countys)       -  2020-04-27\n",
      " \n",
      ">>> number of states in the data set    -  55  ***\n",
      " \n",
      ">>> number of counties in the data set  -  1679\n"
     ]
    }
   ],
   "source": [
    "# Evaluate date column\n",
    "ALLminDT = min(countyDF['date'])\n",
    "ALLmaxDT = max(countyDF['date'])\n",
    "\n",
    "# Evaluate the state column\n",
    "ALLState = set(countyDF['state'])          # get unique list of states\n",
    "ALLState                                   # this list reveals \"states\" that can be dropped\n",
    "NUMState = len(ALLState)                   # total count is 55. should be 50 max\n",
    "\n",
    "# Evaluate the county column\n",
    "ALLCounty = set(countyDF['county'])        # get unique list of countys\n",
    "ALLCounty                                  # this list reveals \"countys\" that can be dropped\n",
    "NUMCounty = len(ALLCounty)               \n",
    "\n",
    "print (' \\n>>> total rows read for county file     - ', len(inCountyList))\n",
    "print (' \\n>>> earliest date (for all countys)     - ', ALLminDT)\n",
    "print (' \\n>>> latest date (for all countys)       - ', ALLmaxDT)\n",
    "print (' \\n>>> number of states in the data set    - ', NUMState, ' ***')\n",
    "print (' \\n>>> number of counties in the data set  - ', NUMCounty)"
   ]
  },
  {
   "cell_type": "markdown",
   "metadata": {},
   "source": [
    "### EXPLORING STATE NAMES & ABBREVIATIONS FOR WEATHER FILES"
   ]
  },
  {
   "cell_type": "code",
   "execution_count": 18,
   "metadata": {},
   "outputs": [
    {
     "data": {
      "text/html": [
       "<div>\n",
       "<style scoped>\n",
       "    .dataframe tbody tr th:only-of-type {\n",
       "        vertical-align: middle;\n",
       "    }\n",
       "\n",
       "    .dataframe tbody tr th {\n",
       "        vertical-align: top;\n",
       "    }\n",
       "\n",
       "    .dataframe thead th {\n",
       "        text-align: right;\n",
       "    }\n",
       "</style>\n",
       "<table border=\"1\" class=\"dataframe\">\n",
       "  <thead>\n",
       "    <tr style=\"text-align: right;\">\n",
       "      <th></th>\n",
       "      <th>st</th>\n",
       "      <th>state</th>\n",
       "    </tr>\n",
       "  </thead>\n",
       "  <tbody>\n",
       "    <tr>\n",
       "      <th>0</th>\n",
       "      <td>AB</td>\n",
       "      <td>ALBERTA</td>\n",
       "    </tr>\n",
       "    <tr>\n",
       "      <th>1</th>\n",
       "      <td>AK</td>\n",
       "      <td>ALASKA</td>\n",
       "    </tr>\n",
       "    <tr>\n",
       "      <th>2</th>\n",
       "      <td>AL</td>\n",
       "      <td>ALABAMA</td>\n",
       "    </tr>\n",
       "    <tr>\n",
       "      <th>3</th>\n",
       "      <td>AR</td>\n",
       "      <td>ARKANSAS</td>\n",
       "    </tr>\n",
       "    <tr>\n",
       "      <th>4</th>\n",
       "      <td>AS</td>\n",
       "      <td>AMERICAN</td>\n",
       "    </tr>\n",
       "  </tbody>\n",
       "</table>\n",
       "</div>"
      ],
      "text/plain": [
       "   st     state\n",
       "0  AB   ALBERTA\n",
       "1  AK    ALASKA\n",
       "2  AL   ALABAMA\n",
       "3  AR  ARKANSAS\n",
       "4  AS  AMERICAN"
      ]
     },
     "execution_count": 18,
     "metadata": {},
     "output_type": "execute_result"
    }
   ],
   "source": [
    "inStNameDF = pd.DataFrame(inStNameListD)                    # turn list of dictionaries into a data frame\n",
    "inStNameDF.head()"
   ]
  },
  {
   "cell_type": "code",
   "execution_count": 19,
   "metadata": {},
   "outputs": [
    {
     "data": {
      "text/html": [
       "<div>\n",
       "<style scoped>\n",
       "    .dataframe tbody tr th:only-of-type {\n",
       "        vertical-align: middle;\n",
       "    }\n",
       "\n",
       "    .dataframe tbody tr th {\n",
       "        vertical-align: top;\n",
       "    }\n",
       "\n",
       "    .dataframe thead th {\n",
       "        text-align: right;\n",
       "    }\n",
       "</style>\n",
       "<table border=\"1\" class=\"dataframe\">\n",
       "  <thead>\n",
       "    <tr style=\"text-align: right;\">\n",
       "      <th></th>\n",
       "      <th>st</th>\n",
       "      <th>state</th>\n",
       "    </tr>\n",
       "  </thead>\n",
       "  <tbody>\n",
       "    <tr>\n",
       "      <th>count</th>\n",
       "      <td>74</td>\n",
       "      <td>74</td>\n",
       "    </tr>\n",
       "    <tr>\n",
       "      <th>unique</th>\n",
       "      <td>74</td>\n",
       "      <td>68</td>\n",
       "    </tr>\n",
       "    <tr>\n",
       "      <th>top</th>\n",
       "      <td>LA</td>\n",
       "      <td>NEW</td>\n",
       "    </tr>\n",
       "    <tr>\n",
       "      <th>freq</th>\n",
       "      <td>1</td>\n",
       "      <td>5</td>\n",
       "    </tr>\n",
       "  </tbody>\n",
       "</table>\n",
       "</div>"
      ],
      "text/plain": [
       "        st state\n",
       "count   74    74\n",
       "unique  74    68\n",
       "top     LA   NEW\n",
       "freq     1     5"
      ]
     },
     "execution_count": 19,
     "metadata": {},
     "output_type": "execute_result"
    }
   ],
   "source": [
    "inStNameDF.describe()"
   ]
  },
  {
   "cell_type": "code",
   "execution_count": 20,
   "metadata": {},
   "outputs": [
    {
     "data": {
      "text/plain": [
       "st       74\n",
       "state    74\n",
       "dtype: int64"
      ]
     },
     "execution_count": 20,
     "metadata": {},
     "output_type": "execute_result"
    }
   ],
   "source": [
    "inStNameDF.count()"
   ]
  },
  {
   "cell_type": "code",
   "execution_count": 21,
   "metadata": {},
   "outputs": [
    {
     "name": "stdout",
     "output_type": "stream",
     "text": [
      " \n",
      ">>> total rows read for weather state names file -  74\n",
      " \n",
      ">>> number of states in the data set             -  68 ***\n"
     ]
    }
   ],
   "source": [
    "# Evaluate the state column\n",
    "ALLState = set(inStNameDF['state'])          # get unique list of states\n",
    "ALLState                                   # this list reveals \"states\" that can be dropped\n",
    "NUMState = len(ALLState)                   # total count is 55. should be 50 max         \n",
    "\n",
    "print (' \\n>>> total rows read for weather state names file - ', len(inStNameList))\n",
    "print (' \\n>>> number of states in the data set             - ', NUMState, '***')       "
   ]
  },
  {
   "cell_type": "markdown",
   "metadata": {},
   "source": [
    "### EXPLORING WEATHER STATIONS"
   ]
  },
  {
   "cell_type": "code",
   "execution_count": 22,
   "metadata": {},
   "outputs": [
    {
     "data": {
      "text/html": [
       "<div>\n",
       "<style scoped>\n",
       "    .dataframe tbody tr th:only-of-type {\n",
       "        vertical-align: middle;\n",
       "    }\n",
       "\n",
       "    .dataframe tbody tr th {\n",
       "        vertical-align: top;\n",
       "    }\n",
       "\n",
       "    .dataframe thead th {\n",
       "        text-align: right;\n",
       "    }\n",
       "</style>\n",
       "<table border=\"1\" class=\"dataframe\">\n",
       "  <thead>\n",
       "    <tr style=\"text-align: right;\">\n",
       "      <th></th>\n",
       "      <th>elev</th>\n",
       "      <th>id</th>\n",
       "      <th>lat</th>\n",
       "      <th>long</th>\n",
       "      <th>st</th>\n",
       "    </tr>\n",
       "  </thead>\n",
       "  <tbody>\n",
       "    <tr>\n",
       "      <th>0</th>\n",
       "      <td>10.1</td>\n",
       "      <td>ACW00011604</td>\n",
       "      <td>17.1167</td>\n",
       "      <td>-61.7833</td>\n",
       "      <td></td>\n",
       "    </tr>\n",
       "    <tr>\n",
       "      <th>1</th>\n",
       "      <td>19.2</td>\n",
       "      <td>ACW00011647</td>\n",
       "      <td>17.1333</td>\n",
       "      <td>-61.7833</td>\n",
       "      <td></td>\n",
       "    </tr>\n",
       "    <tr>\n",
       "      <th>2</th>\n",
       "      <td>34</td>\n",
       "      <td>AE000041196</td>\n",
       "      <td>25.333</td>\n",
       "      <td>55.517</td>\n",
       "      <td></td>\n",
       "    </tr>\n",
       "    <tr>\n",
       "      <th>3</th>\n",
       "      <td>10.4</td>\n",
       "      <td>AEM00041194</td>\n",
       "      <td>25.255</td>\n",
       "      <td>55.364</td>\n",
       "      <td></td>\n",
       "    </tr>\n",
       "    <tr>\n",
       "      <th>4</th>\n",
       "      <td>26.8</td>\n",
       "      <td>AEM00041217</td>\n",
       "      <td>24.433</td>\n",
       "      <td>54.651</td>\n",
       "      <td></td>\n",
       "    </tr>\n",
       "  </tbody>\n",
       "</table>\n",
       "</div>"
      ],
      "text/plain": [
       "   elev           id      lat      long st\n",
       "0  10.1  ACW00011604  17.1167  -61.7833   \n",
       "1  19.2  ACW00011647  17.1333  -61.7833   \n",
       "2    34  AE000041196   25.333    55.517   \n",
       "3  10.4  AEM00041194   25.255    55.364   \n",
       "4  26.8  AEM00041217   24.433    54.651   "
      ]
     },
     "execution_count": 22,
     "metadata": {},
     "output_type": "execute_result"
    }
   ],
   "source": [
    "inStationDF = pd.DataFrame(inStationListD)                    # turn list of dictionaries into a data frame\n",
    "inStationDF.head()"
   ]
  },
  {
   "cell_type": "code",
   "execution_count": 23,
   "metadata": {},
   "outputs": [
    {
     "data": {
      "text/html": [
       "<div>\n",
       "<style scoped>\n",
       "    .dataframe tbody tr th:only-of-type {\n",
       "        vertical-align: middle;\n",
       "    }\n",
       "\n",
       "    .dataframe tbody tr th {\n",
       "        vertical-align: top;\n",
       "    }\n",
       "\n",
       "    .dataframe thead th {\n",
       "        text-align: right;\n",
       "    }\n",
       "</style>\n",
       "<table border=\"1\" class=\"dataframe\">\n",
       "  <thead>\n",
       "    <tr style=\"text-align: right;\">\n",
       "      <th></th>\n",
       "      <th>elev</th>\n",
       "      <th>id</th>\n",
       "      <th>lat</th>\n",
       "      <th>long</th>\n",
       "      <th>st</th>\n",
       "    </tr>\n",
       "  </thead>\n",
       "  <tbody>\n",
       "    <tr>\n",
       "      <th>count</th>\n",
       "      <td>115082</td>\n",
       "      <td>115082</td>\n",
       "      <td>115082</td>\n",
       "      <td>115082</td>\n",
       "      <td>115082</td>\n",
       "    </tr>\n",
       "    <tr>\n",
       "      <th>unique</th>\n",
       "      <td>9439</td>\n",
       "      <td>115082</td>\n",
       "      <td>64928</td>\n",
       "      <td>73063</td>\n",
       "      <td>77</td>\n",
       "    </tr>\n",
       "    <tr>\n",
       "      <th>top</th>\n",
       "      <td>-999.9</td>\n",
       "      <td>USC00056203</td>\n",
       "      <td>49.2</td>\n",
       "      <td>145.3</td>\n",
       "      <td></td>\n",
       "    </tr>\n",
       "    <tr>\n",
       "      <th>freq</th>\n",
       "      <td>4622</td>\n",
       "      <td>1</td>\n",
       "      <td>43</td>\n",
       "      <td>45</td>\n",
       "      <td>43977</td>\n",
       "    </tr>\n",
       "  </tbody>\n",
       "</table>\n",
       "</div>"
      ],
      "text/plain": [
       "          elev           id     lat    long      st\n",
       "count   115082       115082  115082  115082  115082\n",
       "unique    9439       115082   64928   73063      77\n",
       "top     -999.9  USC00056203    49.2   145.3        \n",
       "freq      4622            1      43      45   43977"
      ]
     },
     "execution_count": 23,
     "metadata": {},
     "output_type": "execute_result"
    }
   ],
   "source": [
    "inStationDF.describe()"
   ]
  },
  {
   "cell_type": "code",
   "execution_count": 24,
   "metadata": {},
   "outputs": [
    {
     "data": {
      "text/plain": [
       "elev    115082\n",
       "id      115082\n",
       "lat     115082\n",
       "long    115082\n",
       "st      115082\n",
       "dtype: int64"
      ]
     },
     "execution_count": 24,
     "metadata": {},
     "output_type": "execute_result"
    }
   ],
   "source": [
    "inStationDF.count()"
   ]
  },
  {
   "cell_type": "code",
   "execution_count": 25,
   "metadata": {},
   "outputs": [
    {
     "name": "stdout",
     "output_type": "stream",
     "text": [
      " \n",
      ">>> total rows read for weather stations file -  115082\n"
     ]
    }
   ],
   "source": [
    "# Evaluate the state column\n",
    "#ALLState = set(inStationDF['state'])          # get unique list of states\n",
    "#ALLState                                   # this list reveals \"states\" that can be dropped\n",
    "#NUMState = len(ALLState)                   # total count is 55. should be 50 max         \n",
    "\n",
    "print (' \\n>>> total rows read for weather stations file - ', len(inStationList))\n",
    "#print (' \\n>>> number of states in the data set             - ', NUMState, '***')    "
   ]
  },
  {
   "cell_type": "markdown",
   "metadata": {},
   "source": [
    "### EXPLORING WEATHER TEMPERATURE READINGS FOR 2020"
   ]
  },
  {
   "cell_type": "code",
   "execution_count": 56,
   "metadata": {},
   "outputs": [
    {
     "data": {
      "text/html": [
       "<div>\n",
       "<style scoped>\n",
       "    .dataframe tbody tr th:only-of-type {\n",
       "        vertical-align: middle;\n",
       "    }\n",
       "\n",
       "    .dataframe tbody tr th {\n",
       "        vertical-align: top;\n",
       "    }\n",
       "\n",
       "    .dataframe thead th {\n",
       "        text-align: right;\n",
       "    }\n",
       "</style>\n",
       "<table border=\"1\" class=\"dataframe\">\n",
       "  <thead>\n",
       "    <tr style=\"text-align: right;\">\n",
       "      <th></th>\n",
       "      <th>date</th>\n",
       "      <th>element</th>\n",
       "      <th>id</th>\n",
       "      <th>value</th>\n",
       "    </tr>\n",
       "  </thead>\n",
       "  <tbody>\n",
       "    <tr>\n",
       "      <th>0</th>\n",
       "      <td>20200101</td>\n",
       "      <td>TAVG</td>\n",
       "      <td>USS0018D08S</td>\n",
       "      <td>23</td>\n",
       "    </tr>\n",
       "    <tr>\n",
       "      <th>1</th>\n",
       "      <td>20200101</td>\n",
       "      <td>TAVG</td>\n",
       "      <td>MXM00076423</td>\n",
       "      <td>92</td>\n",
       "    </tr>\n",
       "    <tr>\n",
       "      <th>2</th>\n",
       "      <td>20200101</td>\n",
       "      <td>TAVG</td>\n",
       "      <td>CA003034485</td>\n",
       "      <td>0</td>\n",
       "    </tr>\n",
       "    <tr>\n",
       "      <th>3</th>\n",
       "      <td>20200101</td>\n",
       "      <td>TAVG</td>\n",
       "      <td>USS0006K44S</td>\n",
       "      <td>-62</td>\n",
       "    </tr>\n",
       "    <tr>\n",
       "      <th>4</th>\n",
       "      <td>20200101</td>\n",
       "      <td>TAVG</td>\n",
       "      <td>USS0010E12S</td>\n",
       "      <td>-43</td>\n",
       "    </tr>\n",
       "  </tbody>\n",
       "</table>\n",
       "</div>"
      ],
      "text/plain": [
       "       date element           id  value\n",
       "0  20200101    TAVG  USS0018D08S     23\n",
       "1  20200101    TAVG  MXM00076423     92\n",
       "2  20200101    TAVG  CA003034485      0\n",
       "3  20200101    TAVG  USS0006K44S    -62\n",
       "4  20200101    TAVG  USS0010E12S    -43"
      ]
     },
     "execution_count": 56,
     "metadata": {},
     "output_type": "execute_result"
    }
   ],
   "source": [
    "inTavgDF = pd.DataFrame(inTavgListD)                    # turn list of dictionaries into a data frame\n",
    "inTavgDF.head()"
   ]
  },
  {
   "cell_type": "code",
   "execution_count": 57,
   "metadata": {},
   "outputs": [
    {
     "data": {
      "text/html": [
       "<div>\n",
       "<style scoped>\n",
       "    .dataframe tbody tr th:only-of-type {\n",
       "        vertical-align: middle;\n",
       "    }\n",
       "\n",
       "    .dataframe tbody tr th {\n",
       "        vertical-align: top;\n",
       "    }\n",
       "\n",
       "    .dataframe thead th {\n",
       "        text-align: right;\n",
       "    }\n",
       "</style>\n",
       "<table border=\"1\" class=\"dataframe\">\n",
       "  <thead>\n",
       "    <tr style=\"text-align: right;\">\n",
       "      <th></th>\n",
       "      <th>value</th>\n",
       "    </tr>\n",
       "  </thead>\n",
       "  <tbody>\n",
       "    <tr>\n",
       "      <th>count</th>\n",
       "      <td>888217.000000</td>\n",
       "    </tr>\n",
       "    <tr>\n",
       "      <th>mean</th>\n",
       "      <td>62.174132</td>\n",
       "    </tr>\n",
       "    <tr>\n",
       "      <th>std</th>\n",
       "      <td>135.255080</td>\n",
       "    </tr>\n",
       "    <tr>\n",
       "      <th>min</th>\n",
       "      <td>-728.000000</td>\n",
       "    </tr>\n",
       "    <tr>\n",
       "      <th>25%</th>\n",
       "      <td>-15.000000</td>\n",
       "    </tr>\n",
       "    <tr>\n",
       "      <th>50%</th>\n",
       "      <td>57.000000</td>\n",
       "    </tr>\n",
       "    <tr>\n",
       "      <th>75%</th>\n",
       "      <td>151.000000</td>\n",
       "    </tr>\n",
       "    <tr>\n",
       "      <th>max</th>\n",
       "      <td>426.000000</td>\n",
       "    </tr>\n",
       "  </tbody>\n",
       "</table>\n",
       "</div>"
      ],
      "text/plain": [
       "               value\n",
       "count  888217.000000\n",
       "mean       62.174132\n",
       "std       135.255080\n",
       "min      -728.000000\n",
       "25%       -15.000000\n",
       "50%        57.000000\n",
       "75%       151.000000\n",
       "max       426.000000"
      ]
     },
     "execution_count": 57,
     "metadata": {},
     "output_type": "execute_result"
    }
   ],
   "source": [
    "inTavgDF.describe()"
   ]
  },
  {
   "cell_type": "code",
   "execution_count": 58,
   "metadata": {},
   "outputs": [
    {
     "data": {
      "text/plain": [
       "date       888217\n",
       "element    888217\n",
       "id         888217\n",
       "value      888217\n",
       "dtype: int64"
      ]
     },
     "execution_count": 58,
     "metadata": {},
     "output_type": "execute_result"
    }
   ],
   "source": [
    "inTavgDF.count()"
   ]
  },
  {
   "cell_type": "code",
   "execution_count": 59,
   "metadata": {},
   "outputs": [
    {
     "name": "stdout",
     "output_type": "stream",
     "text": [
      " \n",
      ">>> total rows read for daily temperature readings -  888217\n"
     ]
    }
   ],
   "source": [
    "print (' \\n>>> total rows read for daily temperature readings - ', len(inTavgList))"
   ]
  },
  {
   "cell_type": "markdown",
   "metadata": {},
   "source": [
    "### SUMMARIZE / GROUP DATAFRAMES"
   ]
  },
  {
   "cell_type": "code",
   "execution_count": 30,
   "metadata": {},
   "outputs": [
    {
     "data": {
      "text/html": [
       "<div>\n",
       "<style scoped>\n",
       "    .dataframe tbody tr th:only-of-type {\n",
       "        vertical-align: middle;\n",
       "    }\n",
       "\n",
       "    .dataframe tbody tr th {\n",
       "        vertical-align: top;\n",
       "    }\n",
       "\n",
       "    .dataframe thead th {\n",
       "        text-align: right;\n",
       "    }\n",
       "</style>\n",
       "<table border=\"1\" class=\"dataframe\">\n",
       "  <thead>\n",
       "    <tr style=\"text-align: right;\">\n",
       "      <th></th>\n",
       "      <th>cases</th>\n",
       "      <th>date</th>\n",
       "      <th>deaths</th>\n",
       "      <th>fips</th>\n",
       "      <th>state</th>\n",
       "    </tr>\n",
       "  </thead>\n",
       "  <tbody>\n",
       "    <tr>\n",
       "      <th>0</th>\n",
       "      <td>1</td>\n",
       "      <td>2020-01-21</td>\n",
       "      <td>0</td>\n",
       "      <td>53</td>\n",
       "      <td>Washington</td>\n",
       "    </tr>\n",
       "    <tr>\n",
       "      <th>1</th>\n",
       "      <td>1</td>\n",
       "      <td>2020-01-22</td>\n",
       "      <td>0</td>\n",
       "      <td>53</td>\n",
       "      <td>Washington</td>\n",
       "    </tr>\n",
       "    <tr>\n",
       "      <th>2</th>\n",
       "      <td>1</td>\n",
       "      <td>2020-01-23</td>\n",
       "      <td>0</td>\n",
       "      <td>53</td>\n",
       "      <td>Washington</td>\n",
       "    </tr>\n",
       "    <tr>\n",
       "      <th>3</th>\n",
       "      <td>1</td>\n",
       "      <td>2020-01-24</td>\n",
       "      <td>0</td>\n",
       "      <td>17</td>\n",
       "      <td>Illinois</td>\n",
       "    </tr>\n",
       "    <tr>\n",
       "      <th>4</th>\n",
       "      <td>1</td>\n",
       "      <td>2020-01-24</td>\n",
       "      <td>0</td>\n",
       "      <td>53</td>\n",
       "      <td>Washington</td>\n",
       "    </tr>\n",
       "  </tbody>\n",
       "</table>\n",
       "</div>"
      ],
      "text/plain": [
       "   cases        date  deaths fips       state\n",
       "0      1  2020-01-21       0   53  Washington\n",
       "1      1  2020-01-22       0   53  Washington\n",
       "2      1  2020-01-23       0   53  Washington\n",
       "3      1  2020-01-24       0   17    Illinois\n",
       "4      1  2020-01-24       0   53  Washington"
      ]
     },
     "execution_count": 30,
     "metadata": {},
     "output_type": "execute_result"
    }
   ],
   "source": [
    "stateDF.head()"
   ]
  },
  {
   "cell_type": "markdown",
   "metadata": {},
   "source": [
    "testDF = stateDF.groupby(['state'], as_index=False)\n",
    "for key, values in testDF:\n",
    "    print (testDF.get_group(key), \"\\n\\n\")"
   ]
  },
  {
   "cell_type": "markdown",
   "metadata": {},
   "source": [
    "##### . . . . . . .  GROUP CASES AND DEATHS:  BY STATE"
   ]
  },
  {
   "cell_type": "code",
   "execution_count": 85,
   "metadata": {},
   "outputs": [
    {
     "data": {
      "text/html": [
       "<div>\n",
       "<style scoped>\n",
       "    .dataframe tbody tr th:only-of-type {\n",
       "        vertical-align: middle;\n",
       "    }\n",
       "\n",
       "    .dataframe tbody tr th {\n",
       "        vertical-align: top;\n",
       "    }\n",
       "\n",
       "    .dataframe thead th {\n",
       "        text-align: right;\n",
       "    }\n",
       "</style>\n",
       "<table border=\"1\" class=\"dataframe\">\n",
       "  <thead>\n",
       "    <tr style=\"text-align: right;\">\n",
       "      <th></th>\n",
       "      <th>state</th>\n",
       "      <th>cases</th>\n",
       "      <th>deaths</th>\n",
       "    </tr>\n",
       "  </thead>\n",
       "  <tbody>\n",
       "    <tr>\n",
       "      <th>50</th>\n",
       "      <td>Virginia</td>\n",
       "      <td>185754</td>\n",
       "      <td>5669</td>\n",
       "    </tr>\n",
       "    <tr>\n",
       "      <th>51</th>\n",
       "      <td>Washington</td>\n",
       "      <td>329527</td>\n",
       "      <td>16889</td>\n",
       "    </tr>\n",
       "    <tr>\n",
       "      <th>52</th>\n",
       "      <td>West Virginia</td>\n",
       "      <td>18843</td>\n",
       "      <td>396</td>\n",
       "    </tr>\n",
       "    <tr>\n",
       "      <th>53</th>\n",
       "      <td>Wisconsin</td>\n",
       "      <td>108452</td>\n",
       "      <td>4612</td>\n",
       "    </tr>\n",
       "    <tr>\n",
       "      <th>54</th>\n",
       "      <td>Wyoming</td>\n",
       "      <td>8136</td>\n",
       "      <td>61</td>\n",
       "    </tr>\n",
       "  </tbody>\n",
       "</table>\n",
       "</div>"
      ],
      "text/plain": [
       "            state   cases  deaths\n",
       "50       Virginia  185754    5669\n",
       "51     Washington  329527   16889\n",
       "52  West Virginia   18843     396\n",
       "53      Wisconsin  108452    4612\n",
       "54        Wyoming    8136      61"
      ]
     },
     "execution_count": 85,
     "metadata": {},
     "output_type": "execute_result"
    }
   ],
   "source": [
    "##stateDF_bySt = stateDF.iloc[0:10].groupby(['state'])\n",
    "stateDF_bySt = stateDF.groupby(['state'], as_index=False)\n",
    "\n",
    "##for key, values in stateDF_bySt:\n",
    "##    print (stateDF_bySt.get_group(key), \"\\n\\n\")\n",
    "    \n",
    "CD_stateDF_bySt = stateDF_bySt.agg({'cases':'sum','deaths':'sum'})\n",
    "#stateDF_bySt.aggregate(['sum'])\n",
    "\n",
    "CD_stateDF_bySt.tail()\n",
    "\n",
    "#CD_stateDF_bySt\n"
   ]
  },
  {
   "cell_type": "markdown",
   "metadata": {},
   "source": [
    "for key, values in stateDF_bySt:\n",
    "    print (stateDF_bySt.get_group(key), \"\\n\\n\")"
   ]
  },
  {
   "cell_type": "markdown",
   "metadata": {},
   "source": [
    "##### . . . . . . .  GROUP CASES AND DEATHS:  BY DATE"
   ]
  },
  {
   "cell_type": "code",
   "execution_count": 86,
   "metadata": {},
   "outputs": [
    {
     "data": {
      "text/html": [
       "<div>\n",
       "<style scoped>\n",
       "    .dataframe tbody tr th:only-of-type {\n",
       "        vertical-align: middle;\n",
       "    }\n",
       "\n",
       "    .dataframe tbody tr th {\n",
       "        vertical-align: top;\n",
       "    }\n",
       "\n",
       "    .dataframe thead th {\n",
       "        text-align: right;\n",
       "    }\n",
       "</style>\n",
       "<table border=\"1\" class=\"dataframe\">\n",
       "  <thead>\n",
       "    <tr style=\"text-align: right;\">\n",
       "      <th></th>\n",
       "      <th>date</th>\n",
       "      <th>cases</th>\n",
       "      <th>deaths</th>\n",
       "    </tr>\n",
       "  </thead>\n",
       "  <tbody>\n",
       "    <tr>\n",
       "      <th>0</th>\n",
       "      <td>2020-01-21</td>\n",
       "      <td>1</td>\n",
       "      <td>0</td>\n",
       "    </tr>\n",
       "    <tr>\n",
       "      <th>1</th>\n",
       "      <td>2020-01-22</td>\n",
       "      <td>1</td>\n",
       "      <td>0</td>\n",
       "    </tr>\n",
       "    <tr>\n",
       "      <th>2</th>\n",
       "      <td>2020-01-23</td>\n",
       "      <td>1</td>\n",
       "      <td>0</td>\n",
       "    </tr>\n",
       "    <tr>\n",
       "      <th>3</th>\n",
       "      <td>2020-01-24</td>\n",
       "      <td>2</td>\n",
       "      <td>0</td>\n",
       "    </tr>\n",
       "    <tr>\n",
       "      <th>4</th>\n",
       "      <td>2020-01-25</td>\n",
       "      <td>3</td>\n",
       "      <td>0</td>\n",
       "    </tr>\n",
       "  </tbody>\n",
       "</table>\n",
       "</div>"
      ],
      "text/plain": [
       "         date  cases  deaths\n",
       "0  2020-01-21      1       0\n",
       "1  2020-01-22      1       0\n",
       "2  2020-01-23      1       0\n",
       "3  2020-01-24      2       0\n",
       "4  2020-01-25      3       0"
      ]
     },
     "execution_count": 86,
     "metadata": {},
     "output_type": "execute_result"
    }
   ],
   "source": [
    "stateDF_byDt = stateDF.groupby(['date'], as_index=False)\n",
    "CD_stateDF_byDt = stateDF_byDt.agg({'cases':'sum','deaths':'sum'})\n",
    "CD_stateDF_byDt.head()"
   ]
  },
  {
   "cell_type": "markdown",
   "metadata": {},
   "source": [
    "for key, values in stateDF_byDt:\n",
    "    print (stateDF_byDt.get_group(key),\"\\n\\n\")"
   ]
  },
  {
   "cell_type": "markdown",
   "metadata": {},
   "source": [
    "##### . . . . . . .  GROUP CASES AND DEATHS:  BY STATE and DATE"
   ]
  },
  {
   "cell_type": "code",
   "execution_count": 87,
   "metadata": {},
   "outputs": [
    {
     "data": {
      "text/html": [
       "<div>\n",
       "<style scoped>\n",
       "    .dataframe tbody tr th:only-of-type {\n",
       "        vertical-align: middle;\n",
       "    }\n",
       "\n",
       "    .dataframe tbody tr th {\n",
       "        vertical-align: top;\n",
       "    }\n",
       "\n",
       "    .dataframe thead th {\n",
       "        text-align: right;\n",
       "    }\n",
       "</style>\n",
       "<table border=\"1\" class=\"dataframe\">\n",
       "  <thead>\n",
       "    <tr style=\"text-align: right;\">\n",
       "      <th></th>\n",
       "      <th>state</th>\n",
       "      <th>date</th>\n",
       "      <th>cases</th>\n",
       "      <th>deaths</th>\n",
       "    </tr>\n",
       "  </thead>\n",
       "  <tbody>\n",
       "    <tr>\n",
       "      <th>0</th>\n",
       "      <td>Alabama</td>\n",
       "      <td>2020-03-13</td>\n",
       "      <td>6</td>\n",
       "      <td>0</td>\n",
       "    </tr>\n",
       "    <tr>\n",
       "      <th>1</th>\n",
       "      <td>Alabama</td>\n",
       "      <td>2020-03-14</td>\n",
       "      <td>12</td>\n",
       "      <td>0</td>\n",
       "    </tr>\n",
       "    <tr>\n",
       "      <th>2</th>\n",
       "      <td>Alabama</td>\n",
       "      <td>2020-03-15</td>\n",
       "      <td>23</td>\n",
       "      <td>0</td>\n",
       "    </tr>\n",
       "    <tr>\n",
       "      <th>3</th>\n",
       "      <td>Alabama</td>\n",
       "      <td>2020-03-16</td>\n",
       "      <td>29</td>\n",
       "      <td>0</td>\n",
       "    </tr>\n",
       "    <tr>\n",
       "      <th>4</th>\n",
       "      <td>Alabama</td>\n",
       "      <td>2020-03-17</td>\n",
       "      <td>39</td>\n",
       "      <td>0</td>\n",
       "    </tr>\n",
       "  </tbody>\n",
       "</table>\n",
       "</div>"
      ],
      "text/plain": [
       "     state        date  cases  deaths\n",
       "0  Alabama  2020-03-13      6       0\n",
       "1  Alabama  2020-03-14     12       0\n",
       "2  Alabama  2020-03-15     23       0\n",
       "3  Alabama  2020-03-16     29       0\n",
       "4  Alabama  2020-03-17     39       0"
      ]
     },
     "execution_count": 87,
     "metadata": {},
     "output_type": "execute_result"
    }
   ],
   "source": [
    "stateDF_bySt_byDt = stateDF.groupby(['state','date'], as_index=False)\n",
    "CD_stateDF_bySt_byDt = stateDF_bySt_byDt.agg({'cases':'sum','deaths':'sum'})\n",
    "CD_stateDF_bySt_byDt.head()\n"
   ]
  },
  {
   "cell_type": "markdown",
   "metadata": {},
   "source": [
    "for key, values in stateDF_bySt_byDt:\n",
    "    print (stateDF_bySt_byDt.get_group(key),\"\\n\\n\")"
   ]
  },
  {
   "cell_type": "markdown",
   "metadata": {},
   "source": [
    "### PLOTTING "
   ]
  },
  {
   "cell_type": "code",
   "execution_count": 90,
   "metadata": {},
   "outputs": [
    {
     "data": {
      "text/html": [
       "<div>\n",
       "<style scoped>\n",
       "    .dataframe tbody tr th:only-of-type {\n",
       "        vertical-align: middle;\n",
       "    }\n",
       "\n",
       "    .dataframe tbody tr th {\n",
       "        vertical-align: top;\n",
       "    }\n",
       "\n",
       "    .dataframe thead th {\n",
       "        text-align: right;\n",
       "    }\n",
       "</style>\n",
       "<table border=\"1\" class=\"dataframe\">\n",
       "  <thead>\n",
       "    <tr style=\"text-align: right;\">\n",
       "      <th></th>\n",
       "      <th>state</th>\n",
       "      <th>cases</th>\n",
       "      <th>deaths</th>\n",
       "    </tr>\n",
       "  </thead>\n",
       "  <tbody>\n",
       "    <tr>\n",
       "      <th>0</th>\n",
       "      <td>Alabama</td>\n",
       "      <td>110554</td>\n",
       "      <td>3309</td>\n",
       "    </tr>\n",
       "    <tr>\n",
       "      <th>1</th>\n",
       "      <td>Alaska</td>\n",
       "      <td>8028</td>\n",
       "      <td>159</td>\n",
       "    </tr>\n",
       "    <tr>\n",
       "      <th>2</th>\n",
       "      <td>Arizona</td>\n",
       "      <td>113731</td>\n",
       "      <td>4063</td>\n",
       "    </tr>\n",
       "    <tr>\n",
       "      <th>3</th>\n",
       "      <td>Arkansas</td>\n",
       "      <td>47925</td>\n",
       "      <td>866</td>\n",
       "    </tr>\n",
       "    <tr>\n",
       "      <th>4</th>\n",
       "      <td>California</td>\n",
       "      <td>775044</td>\n",
       "      <td>25381</td>\n",
       "    </tr>\n",
       "  </tbody>\n",
       "</table>\n",
       "</div>"
      ],
      "text/plain": [
       "        state   cases  deaths\n",
       "0     Alabama  110554    3309\n",
       "1      Alaska    8028     159\n",
       "2     Arizona  113731    4063\n",
       "3    Arkansas   47925     866\n",
       "4  California  775044   25381"
      ]
     },
     "execution_count": 90,
     "metadata": {},
     "output_type": "execute_result"
    }
   ],
   "source": [
    "c = np.array([CD_stateDF_bySt['cases']])\n",
    "d = np.array([CD_stateDF_bySt['deaths']])\n",
    "s = np.array([CD_stateDF_bySt['state']])\n",
    "CD_stateDF_bySt[0:].head()\n",
    "\n",
    "#x_axis = np.arrange(len(xPlot))"
   ]
  },
  {
   "cell_type": "code",
   "execution_count": 91,
   "metadata": {},
   "outputs": [
    {
     "data": {
      "text/html": [
       "<div>\n",
       "<style scoped>\n",
       "    .dataframe tbody tr th:only-of-type {\n",
       "        vertical-align: middle;\n",
       "    }\n",
       "\n",
       "    .dataframe tbody tr th {\n",
       "        vertical-align: top;\n",
       "    }\n",
       "\n",
       "    .dataframe thead th {\n",
       "        text-align: right;\n",
       "    }\n",
       "</style>\n",
       "<table border=\"1\" class=\"dataframe\">\n",
       "  <thead>\n",
       "    <tr style=\"text-align: right;\">\n",
       "      <th></th>\n",
       "      <th>cases</th>\n",
       "      <th>date</th>\n",
       "      <th>deaths</th>\n",
       "      <th>fips</th>\n",
       "      <th>state</th>\n",
       "    </tr>\n",
       "  </thead>\n",
       "  <tbody>\n",
       "    <tr>\n",
       "      <th>0</th>\n",
       "      <td>1</td>\n",
       "      <td>2020-01-21</td>\n",
       "      <td>0</td>\n",
       "      <td>53</td>\n",
       "      <td>Washington</td>\n",
       "    </tr>\n",
       "    <tr>\n",
       "      <th>1</th>\n",
       "      <td>1</td>\n",
       "      <td>2020-01-22</td>\n",
       "      <td>0</td>\n",
       "      <td>53</td>\n",
       "      <td>Washington</td>\n",
       "    </tr>\n",
       "    <tr>\n",
       "      <th>2</th>\n",
       "      <td>1</td>\n",
       "      <td>2020-01-23</td>\n",
       "      <td>0</td>\n",
       "      <td>53</td>\n",
       "      <td>Washington</td>\n",
       "    </tr>\n",
       "    <tr>\n",
       "      <th>3</th>\n",
       "      <td>1</td>\n",
       "      <td>2020-01-24</td>\n",
       "      <td>0</td>\n",
       "      <td>17</td>\n",
       "      <td>Illinois</td>\n",
       "    </tr>\n",
       "    <tr>\n",
       "      <th>4</th>\n",
       "      <td>1</td>\n",
       "      <td>2020-01-24</td>\n",
       "      <td>0</td>\n",
       "      <td>53</td>\n",
       "      <td>Washington</td>\n",
       "    </tr>\n",
       "  </tbody>\n",
       "</table>\n",
       "</div>"
      ],
      "text/plain": [
       "   cases        date  deaths fips       state\n",
       "0      1  2020-01-21       0   53  Washington\n",
       "1      1  2020-01-22       0   53  Washington\n",
       "2      1  2020-01-23       0   53  Washington\n",
       "3      1  2020-01-24       0   17    Illinois\n",
       "4      1  2020-01-24       0   53  Washington"
      ]
     },
     "execution_count": 91,
     "metadata": {},
     "output_type": "execute_result"
    }
   ],
   "source": [
    "stateDF.head()"
   ]
  },
  {
   "cell_type": "code",
   "execution_count": null,
   "metadata": {},
   "outputs": [],
   "source": [
    "#width = 0.75\n",
    "#fig, ax= plt.subplots()\n",
    "#rects1 = ax.bar(x_axis - width/2, c1, width, label='Cases')\n",
    "#rects2 = ax.bar(x_axis + width/2, d1, width, label='Deaths')\n",
    "\n",
    "#fig.tight_layout()\n",
    "#plt.show()"
   ]
  },
  {
   "cell_type": "code",
   "execution_count": 149,
   "metadata": {},
   "outputs": [
    {
     "data": {
      "text/plain": [
       "Text(0, 0.5, 'cases')"
      ]
     },
     "execution_count": 149,
     "metadata": {},
     "output_type": "execute_result"
    },
    {
     "data": {
      "image/png": "[encoded data removed]",
      "text/plain": [
       "<Figure size 432x288 with 1 Axes>"
      ]
     },
     "metadata": {
      "needs_background": "light"
     },
     "output_type": "display_data"
    }
   ],
   "source": [
    "c1 = CD_stateDF_byDt['cases']\n",
    "x_axis = np.arange(len(c1))\n",
    "\n",
    "plt.bar(x_axis, c1, color='b', alpha=0.75, align=\"center\")\n",
    "plt.ylabel('cases')\n"
   ]
  },
  {
   "cell_type": "code",
   "execution_count": 150,
   "metadata": {},
   "outputs": [
    {
     "data": {
      "text/plain": [
       "Text(0, 0.5, 'deaths')"
      ]
     },
     "execution_count": 150,
     "metadata": {},
     "output_type": "execute_result"
    },
    {
     "data": {
      "image/png": "[encoded data removed]",
      "text/plain": [
       "<Figure size 432x288 with 1 Axes>"
      ]
     },
     "metadata": {
      "needs_background": "light"
     },
     "output_type": "display_data"
    }
   ],
   "source": [
    "d1 = CD_stateDF_byDt['deaths']\n",
    "x_axis = np.arange(len(d1))\n",
    "plt.bar(x_axis, d1, color='r', alpha=0.75, align=\"center\")\n",
    "plt.ylabel('deaths')\n"
   ]
  },
  {
   "cell_type": "code",
   "execution_count": 140,
   "metadata": {},
   "outputs": [
    {
     "data": {
      "text/plain": [
       "<matplotlib.collections.PathCollection at 0x1742a60de10>"
      ]
     },
     "execution_count": 140,
     "metadata": {},
     "output_type": "execute_result"
    },
    {
     "data": {
      "image/png": "[encoded data removed]",
      "text/plain": [
       "<Figure size 432x288 with 1 Axes>"
      ]
     },
     "metadata": {
      "needs_background": "light"
     },
     "output_type": "display_data"
    }
   ],
   "source": [
    "c2 = CD_stateDF_bySt['cases']\n",
    "x_axis = np.arange(len(c2))\n",
    "\n",
    "plt.scatter(x_axis, c2, marker=\"o\", facecolors=\"green\", edgecolors=\"green\",\n",
    "            s=x_axis, alpha=0.75)"
   ]
  },
  {
   "cell_type": "code",
   "execution_count": 142,
   "metadata": {},
   "outputs": [
    {
     "data": {
      "text/plain": [
       "<matplotlib.collections.PathCollection at 0x1742a6a39e8>"
      ]
     },
     "execution_count": 142,
     "metadata": {},
     "output_type": "execute_result"
    },
    {
     "data": {
      "image/png": "[encoded data removed]",
      "text/plain": [
       "<Figure size 432x288 with 1 Axes>"
      ]
     },
     "metadata": {
      "needs_background": "light"
     },
     "output_type": "display_data"
    }
   ],
   "source": [
    "d2 = CD_stateDF_bySt['deaths']\n",
    "x_axis = np.arange(len(d2))\n",
    "\n",
    "plt.scatter(x_axis, d2, marker=\"x\", facecolors=\"red\", edgecolors=\"red\",\n",
    "            s=x_axis, alpha=0.75)"
   ]
  },
  {
   "cell_type": "markdown",
   "metadata": {},
   "source": [
    "### Join Weather data sets: Daily Temperature (inTavg) and Station locations (inStation)  on ID"
   ]
  },
  {
   "cell_type": "code",
   "execution_count": 62,
   "metadata": {},
   "outputs": [
    {
     "data": {
      "text/html": [
       "<div>\n",
       "<style scoped>\n",
       "    .dataframe tbody tr th:only-of-type {\n",
       "        vertical-align: middle;\n",
       "    }\n",
       "\n",
       "    .dataframe tbody tr th {\n",
       "        vertical-align: top;\n",
       "    }\n",
       "\n",
       "    .dataframe thead th {\n",
       "        text-align: right;\n",
       "    }\n",
       "</style>\n",
       "<table border=\"1\" class=\"dataframe\">\n",
       "  <thead>\n",
       "    <tr style=\"text-align: right;\">\n",
       "      <th></th>\n",
       "      <th>date</th>\n",
       "      <th>element</th>\n",
       "      <th>id</th>\n",
       "      <th>value</th>\n",
       "    </tr>\n",
       "  </thead>\n",
       "  <tbody>\n",
       "    <tr>\n",
       "      <th>0</th>\n",
       "      <td>20200101</td>\n",
       "      <td>TAVG</td>\n",
       "      <td>USS0018D08S</td>\n",
       "      <td>23</td>\n",
       "    </tr>\n",
       "    <tr>\n",
       "      <th>1</th>\n",
       "      <td>20200101</td>\n",
       "      <td>TAVG</td>\n",
       "      <td>MXM00076423</td>\n",
       "      <td>92</td>\n",
       "    </tr>\n",
       "    <tr>\n",
       "      <th>2</th>\n",
       "      <td>20200101</td>\n",
       "      <td>TAVG</td>\n",
       "      <td>CA003034485</td>\n",
       "      <td>0</td>\n",
       "    </tr>\n",
       "    <tr>\n",
       "      <th>3</th>\n",
       "      <td>20200101</td>\n",
       "      <td>TAVG</td>\n",
       "      <td>USS0006K44S</td>\n",
       "      <td>-62</td>\n",
       "    </tr>\n",
       "    <tr>\n",
       "      <th>4</th>\n",
       "      <td>20200101</td>\n",
       "      <td>TAVG</td>\n",
       "      <td>USS0010E12S</td>\n",
       "      <td>-43</td>\n",
       "    </tr>\n",
       "  </tbody>\n",
       "</table>\n",
       "</div>"
      ],
      "text/plain": [
       "       date element           id  value\n",
       "0  20200101    TAVG  USS0018D08S     23\n",
       "1  20200101    TAVG  MXM00076423     92\n",
       "2  20200101    TAVG  CA003034485      0\n",
       "3  20200101    TAVG  USS0006K44S    -62\n",
       "4  20200101    TAVG  USS0010E12S    -43"
      ]
     },
     "execution_count": 62,
     "metadata": {},
     "output_type": "execute_result"
    }
   ],
   "source": [
    "inTavgDF.head()"
   ]
  },
  {
   "cell_type": "code",
   "execution_count": 71,
   "metadata": {},
   "outputs": [
    {
     "data": {
      "text/html": [
       "<div>\n",
       "<style scoped>\n",
       "    .dataframe tbody tr th:only-of-type {\n",
       "        vertical-align: middle;\n",
       "    }\n",
       "\n",
       "    .dataframe tbody tr th {\n",
       "        vertical-align: top;\n",
       "    }\n",
       "\n",
       "    .dataframe thead th {\n",
       "        text-align: right;\n",
       "    }\n",
       "</style>\n",
       "<table border=\"1\" class=\"dataframe\">\n",
       "  <thead>\n",
       "    <tr style=\"text-align: right;\">\n",
       "      <th></th>\n",
       "      <th>elev</th>\n",
       "      <th>id</th>\n",
       "      <th>lat</th>\n",
       "      <th>long</th>\n",
       "      <th>st</th>\n",
       "    </tr>\n",
       "  </thead>\n",
       "  <tbody>\n",
       "    <tr>\n",
       "      <th>0</th>\n",
       "      <td>10.1</td>\n",
       "      <td>ACW00011604</td>\n",
       "      <td>17.1167</td>\n",
       "      <td>-61.7833</td>\n",
       "      <td></td>\n",
       "    </tr>\n",
       "    <tr>\n",
       "      <th>1</th>\n",
       "      <td>19.2</td>\n",
       "      <td>ACW00011647</td>\n",
       "      <td>17.1333</td>\n",
       "      <td>-61.7833</td>\n",
       "      <td></td>\n",
       "    </tr>\n",
       "    <tr>\n",
       "      <th>2</th>\n",
       "      <td>34</td>\n",
       "      <td>AE000041196</td>\n",
       "      <td>25.333</td>\n",
       "      <td>55.517</td>\n",
       "      <td></td>\n",
       "    </tr>\n",
       "    <tr>\n",
       "      <th>3</th>\n",
       "      <td>10.4</td>\n",
       "      <td>AEM00041194</td>\n",
       "      <td>25.255</td>\n",
       "      <td>55.364</td>\n",
       "      <td></td>\n",
       "    </tr>\n",
       "    <tr>\n",
       "      <th>4</th>\n",
       "      <td>26.8</td>\n",
       "      <td>AEM00041217</td>\n",
       "      <td>24.433</td>\n",
       "      <td>54.651</td>\n",
       "      <td></td>\n",
       "    </tr>\n",
       "  </tbody>\n",
       "</table>\n",
       "</div>"
      ],
      "text/plain": [
       "   elev           id      lat      long st\n",
       "0  10.1  ACW00011604  17.1167  -61.7833   \n",
       "1  19.2  ACW00011647  17.1333  -61.7833   \n",
       "2    34  AE000041196   25.333    55.517   \n",
       "3  10.4  AEM00041194   25.255    55.364   \n",
       "4  26.8  AEM00041217   24.433    54.651   "
      ]
     },
     "execution_count": 71,
     "metadata": {},
     "output_type": "execute_result"
    }
   ],
   "source": [
    "inStationDF2 = inStationDF\n",
    "inStationDF2.head()"
   ]
  },
  {
   "cell_type": "code",
   "execution_count": 68,
   "metadata": {},
   "outputs": [
    {
     "data": {
      "text/html": [
       "<div>\n",
       "<style scoped>\n",
       "    .dataframe tbody tr th:only-of-type {\n",
       "        vertical-align: middle;\n",
       "    }\n",
       "\n",
       "    .dataframe tbody tr th {\n",
       "        vertical-align: top;\n",
       "    }\n",
       "\n",
       "    .dataframe thead th {\n",
       "        text-align: right;\n",
       "    }\n",
       "</style>\n",
       "<table border=\"1\" class=\"dataframe\">\n",
       "  <thead>\n",
       "    <tr style=\"text-align: right;\">\n",
       "      <th></th>\n",
       "      <th>st</th>\n",
       "      <th>state</th>\n",
       "    </tr>\n",
       "  </thead>\n",
       "  <tbody>\n",
       "    <tr>\n",
       "      <th>0</th>\n",
       "      <td>AB</td>\n",
       "      <td>ALBERTA</td>\n",
       "    </tr>\n",
       "    <tr>\n",
       "      <th>1</th>\n",
       "      <td>AK</td>\n",
       "      <td>ALASKA</td>\n",
       "    </tr>\n",
       "    <tr>\n",
       "      <th>2</th>\n",
       "      <td>AL</td>\n",
       "      <td>ALABAMA</td>\n",
       "    </tr>\n",
       "    <tr>\n",
       "      <th>3</th>\n",
       "      <td>AR</td>\n",
       "      <td>ARKANSAS</td>\n",
       "    </tr>\n",
       "    <tr>\n",
       "      <th>4</th>\n",
       "      <td>AS</td>\n",
       "      <td>AMERICAN</td>\n",
       "    </tr>\n",
       "  </tbody>\n",
       "</table>\n",
       "</div>"
      ],
      "text/plain": [
       "   st     state\n",
       "0  AB   ALBERTA\n",
       "1  AK    ALASKA\n",
       "2  AL   ALABAMA\n",
       "3  AR  ARKANSAS\n",
       "4  AS  AMERICAN"
      ]
     },
     "execution_count": 68,
     "metadata": {},
     "output_type": "execute_result"
    }
   ],
   "source": [
    "inStNameDF.head()"
   ]
  },
  {
   "cell_type": "code",
   "execution_count": 75,
   "metadata": {},
   "outputs": [
    {
     "data": {
      "text/html": [
       "<div>\n",
       "<style scoped>\n",
       "    .dataframe tbody tr th:only-of-type {\n",
       "        vertical-align: middle;\n",
       "    }\n",
       "\n",
       "    .dataframe tbody tr th {\n",
       "        vertical-align: top;\n",
       "    }\n",
       "\n",
       "    .dataframe thead th {\n",
       "        text-align: right;\n",
       "    }\n",
       "</style>\n",
       "<table border=\"1\" class=\"dataframe\">\n",
       "  <thead>\n",
       "    <tr style=\"text-align: right;\">\n",
       "      <th></th>\n",
       "      <th>elev</th>\n",
       "      <th>id</th>\n",
       "      <th>lat</th>\n",
       "      <th>long</th>\n",
       "      <th>st</th>\n",
       "      <th>state_x</th>\n",
       "      <th>state_y</th>\n",
       "    </tr>\n",
       "  </thead>\n",
       "  <tbody>\n",
       "    <tr>\n",
       "      <th>0</th>\n",
       "      <td>408.4</td>\n",
       "      <td>AQC00914000</td>\n",
       "      <td>-14.3167</td>\n",
       "      <td>-170.7667</td>\n",
       "      <td>AS</td>\n",
       "      <td>AMERICAN</td>\n",
       "      <td>AMERICAN</td>\n",
       "    </tr>\n",
       "    <tr>\n",
       "      <th>1</th>\n",
       "      <td>182.9</td>\n",
       "      <td>AQC00914005</td>\n",
       "      <td>-14.2667</td>\n",
       "      <td>-170.65</td>\n",
       "      <td>AS</td>\n",
       "      <td>AMERICAN</td>\n",
       "      <td>AMERICAN</td>\n",
       "    </tr>\n",
       "    <tr>\n",
       "      <th>2</th>\n",
       "      <td>6.1</td>\n",
       "      <td>AQC00914021</td>\n",
       "      <td>-14.2667</td>\n",
       "      <td>-170.5833</td>\n",
       "      <td>AS</td>\n",
       "      <td>AMERICAN</td>\n",
       "      <td>AMERICAN</td>\n",
       "    </tr>\n",
       "    <tr>\n",
       "      <th>3</th>\n",
       "      <td>80.8</td>\n",
       "      <td>AQC00914060</td>\n",
       "      <td>-14.2667</td>\n",
       "      <td>-170.6833</td>\n",
       "      <td>AS</td>\n",
       "      <td>AMERICAN</td>\n",
       "      <td>AMERICAN</td>\n",
       "    </tr>\n",
       "    <tr>\n",
       "      <th>4</th>\n",
       "      <td>249.9</td>\n",
       "      <td>AQC00914135</td>\n",
       "      <td>-14.3</td>\n",
       "      <td>-170.7</td>\n",
       "      <td>AS</td>\n",
       "      <td>AMERICAN</td>\n",
       "      <td>AMERICAN</td>\n",
       "    </tr>\n",
       "  </tbody>\n",
       "</table>\n",
       "</div>"
      ],
      "text/plain": [
       "    elev           id       lat       long  st   state_x   state_y\n",
       "0  408.4  AQC00914000  -14.3167  -170.7667  AS  AMERICAN  AMERICAN\n",
       "1  182.9  AQC00914005  -14.2667    -170.65  AS  AMERICAN  AMERICAN\n",
       "2    6.1  AQC00914021  -14.2667  -170.5833  AS  AMERICAN  AMERICAN\n",
       "3   80.8  AQC00914060  -14.2667  -170.6833  AS  AMERICAN  AMERICAN\n",
       "4  249.9  AQC00914135     -14.3     -170.7  AS  AMERICAN  AMERICAN"
      ]
     },
     "execution_count": 75,
     "metadata": {},
     "output_type": "execute_result"
    }
   ],
   "source": [
    "inStationDF2 = pd.merge(inStationDF2, inStNameDF, how='inner', on=['st','st'] )\n",
    "inStationDF2.head()"
   ]
  },
  {
   "cell_type": "code",
   "execution_count": 76,
   "metadata": {},
   "outputs": [
    {
     "data": {
      "text/html": [
       "<div>\n",
       "<style scoped>\n",
       "    .dataframe tbody tr th:only-of-type {\n",
       "        vertical-align: middle;\n",
       "    }\n",
       "\n",
       "    .dataframe tbody tr th {\n",
       "        vertical-align: top;\n",
       "    }\n",
       "\n",
       "    .dataframe thead th {\n",
       "        text-align: right;\n",
       "    }\n",
       "</style>\n",
       "<table border=\"1\" class=\"dataframe\">\n",
       "  <thead>\n",
       "    <tr style=\"text-align: right;\">\n",
       "      <th></th>\n",
       "      <th>date</th>\n",
       "      <th>element</th>\n",
       "      <th>id</th>\n",
       "      <th>value</th>\n",
       "      <th>elev</th>\n",
       "      <th>lat</th>\n",
       "      <th>long</th>\n",
       "      <th>st</th>\n",
       "      <th>state_x</th>\n",
       "      <th>state_y</th>\n",
       "    </tr>\n",
       "  </thead>\n",
       "  <tbody>\n",
       "    <tr>\n",
       "      <th>0</th>\n",
       "      <td>20200101</td>\n",
       "      <td>TAVG</td>\n",
       "      <td>USS0018D08S</td>\n",
       "      <td>23</td>\n",
       "      <td>1472.2</td>\n",
       "      <td>45.19</td>\n",
       "      <td>-118.55</td>\n",
       "      <td>OR</td>\n",
       "      <td>OREGON</td>\n",
       "      <td>OREGON</td>\n",
       "    </tr>\n",
       "    <tr>\n",
       "      <th>1</th>\n",
       "      <td>20200102</td>\n",
       "      <td>TAVG</td>\n",
       "      <td>USS0018D08S</td>\n",
       "      <td>-2</td>\n",
       "      <td>1472.2</td>\n",
       "      <td>45.19</td>\n",
       "      <td>-118.55</td>\n",
       "      <td>OR</td>\n",
       "      <td>OREGON</td>\n",
       "      <td>OREGON</td>\n",
       "    </tr>\n",
       "    <tr>\n",
       "      <th>2</th>\n",
       "      <td>20200103</td>\n",
       "      <td>TAVG</td>\n",
       "      <td>USS0018D08S</td>\n",
       "      <td>36</td>\n",
       "      <td>1472.2</td>\n",
       "      <td>45.19</td>\n",
       "      <td>-118.55</td>\n",
       "      <td>OR</td>\n",
       "      <td>OREGON</td>\n",
       "      <td>OREGON</td>\n",
       "    </tr>\n",
       "    <tr>\n",
       "      <th>3</th>\n",
       "      <td>20200104</td>\n",
       "      <td>TAVG</td>\n",
       "      <td>USS0018D08S</td>\n",
       "      <td>9</td>\n",
       "      <td>1472.2</td>\n",
       "      <td>45.19</td>\n",
       "      <td>-118.55</td>\n",
       "      <td>OR</td>\n",
       "      <td>OREGON</td>\n",
       "      <td>OREGON</td>\n",
       "    </tr>\n",
       "    <tr>\n",
       "      <th>4</th>\n",
       "      <td>20200105</td>\n",
       "      <td>TAVG</td>\n",
       "      <td>USS0018D08S</td>\n",
       "      <td>-13</td>\n",
       "      <td>1472.2</td>\n",
       "      <td>45.19</td>\n",
       "      <td>-118.55</td>\n",
       "      <td>OR</td>\n",
       "      <td>OREGON</td>\n",
       "      <td>OREGON</td>\n",
       "    </tr>\n",
       "  </tbody>\n",
       "</table>\n",
       "</div>"
      ],
      "text/plain": [
       "       date element           id  value    elev    lat     long  st state_x  \\\n",
       "0  20200101    TAVG  USS0018D08S     23  1472.2  45.19  -118.55  OR  OREGON   \n",
       "1  20200102    TAVG  USS0018D08S     -2  1472.2  45.19  -118.55  OR  OREGON   \n",
       "2  20200103    TAVG  USS0018D08S     36  1472.2  45.19  -118.55  OR  OREGON   \n",
       "3  20200104    TAVG  USS0018D08S      9  1472.2  45.19  -118.55  OR  OREGON   \n",
       "4  20200105    TAVG  USS0018D08S    -13  1472.2  45.19  -118.55  OR  OREGON   \n",
       "\n",
       "  state_y  \n",
       "0  OREGON  \n",
       "1  OREGON  \n",
       "2  OREGON  \n",
       "3  OREGON  \n",
       "4  OREGON  "
      ]
     },
     "execution_count": 76,
     "metadata": {},
     "output_type": "execute_result"
    }
   ],
   "source": [
    "dlyTemps = pd.merge (inTavgDF, inStationDF2, how='inner', on=['id','id'])\n",
    "dlyTemps.head()"
   ]
  },
  {
   "cell_type": "code",
   "execution_count": 83,
   "metadata": {},
   "outputs": [
    {
     "data": {
      "text/html": [
       "<div>\n",
       "<style scoped>\n",
       "    .dataframe tbody tr th:only-of-type {\n",
       "        vertical-align: middle;\n",
       "    }\n",
       "\n",
       "    .dataframe tbody tr th {\n",
       "        vertical-align: top;\n",
       "    }\n",
       "\n",
       "    .dataframe thead th {\n",
       "        text-align: right;\n",
       "    }\n",
       "</style>\n",
       "<table border=\"1\" class=\"dataframe\">\n",
       "  <thead>\n",
       "    <tr style=\"text-align: right;\">\n",
       "      <th></th>\n",
       "      <th>st</th>\n",
       "      <th>date</th>\n",
       "      <th>value</th>\n",
       "      <th>lat</th>\n",
       "      <th>long</th>\n",
       "    </tr>\n",
       "  </thead>\n",
       "  <tbody>\n",
       "    <tr>\n",
       "      <th>0</th>\n",
       "      <td>AB</td>\n",
       "      <td>20200101</td>\n",
       "      <td>-35.536082</td>\n",
       "      <td>49</td>\n",
       "      <td>-110.0667</td>\n",
       "    </tr>\n",
       "    <tr>\n",
       "      <th>1</th>\n",
       "      <td>AB</td>\n",
       "      <td>20200102</td>\n",
       "      <td>-51.772727</td>\n",
       "      <td>49</td>\n",
       "      <td>-110.0667</td>\n",
       "    </tr>\n",
       "    <tr>\n",
       "      <th>2</th>\n",
       "      <td>AB</td>\n",
       "      <td>20200103</td>\n",
       "      <td>-66.238579</td>\n",
       "      <td>49</td>\n",
       "      <td>-110.0667</td>\n",
       "    </tr>\n",
       "    <tr>\n",
       "      <th>3</th>\n",
       "      <td>AB</td>\n",
       "      <td>20200104</td>\n",
       "      <td>-30.497462</td>\n",
       "      <td>49</td>\n",
       "      <td>-110.0667</td>\n",
       "    </tr>\n",
       "    <tr>\n",
       "      <th>4</th>\n",
       "      <td>AB</td>\n",
       "      <td>20200105</td>\n",
       "      <td>-64.710660</td>\n",
       "      <td>49</td>\n",
       "      <td>-110.0667</td>\n",
       "    </tr>\n",
       "  </tbody>\n",
       "</table>\n",
       "</div>"
      ],
      "text/plain": [
       "   st      date      value lat       long\n",
       "0  AB  20200101 -35.536082  49  -110.0667\n",
       "1  AB  20200102 -51.772727  49  -110.0667\n",
       "2  AB  20200103 -66.238579  49  -110.0667\n",
       "3  AB  20200104 -30.497462  49  -110.0667\n",
       "4  AB  20200105 -64.710660  49  -110.0667"
      ]
     },
     "execution_count": 83,
     "metadata": {},
     "output_type": "execute_result"
    }
   ],
   "source": [
    "dlyTemps_bySt_byDt = dlyTemps.groupby(['st','date'], as_index=False)\n",
    "dlyTemps_bySt_byDt = dlyTemps_bySt_byDt.agg({'value':'mean','lat':'min','long':'min'})\n",
    "dlyTemps_bySt_byDt.head()"
   ]
  },
  {
   "cell_type": "code",
   "execution_count": 146,
   "metadata": {},
   "outputs": [
    {
     "data": {
      "text/html": [
       "<div>\n",
       "<style scoped>\n",
       "    .dataframe tbody tr th:only-of-type {\n",
       "        vertical-align: middle;\n",
       "    }\n",
       "\n",
       "    .dataframe tbody tr th {\n",
       "        vertical-align: top;\n",
       "    }\n",
       "\n",
       "    .dataframe thead th {\n",
       "        text-align: right;\n",
       "    }\n",
       "</style>\n",
       "<table border=\"1\" class=\"dataframe\">\n",
       "  <thead>\n",
       "    <tr style=\"text-align: right;\">\n",
       "      <th></th>\n",
       "      <th>date</th>\n",
       "      <th>value</th>\n",
       "      <th>lat</th>\n",
       "      <th>long</th>\n",
       "    </tr>\n",
       "  </thead>\n",
       "  <tbody>\n",
       "    <tr>\n",
       "      <th>0</th>\n",
       "      <td>20200101</td>\n",
       "      <td>-11.003827</td>\n",
       "      <td>13.4836</td>\n",
       "      <td>-100.05</td>\n",
       "    </tr>\n",
       "    <tr>\n",
       "      <th>1</th>\n",
       "      <td>20200102</td>\n",
       "      <td>-13.456728</td>\n",
       "      <td>-14.3306</td>\n",
       "      <td>-100.05</td>\n",
       "    </tr>\n",
       "    <tr>\n",
       "      <th>2</th>\n",
       "      <td>20200103</td>\n",
       "      <td>-4.284001</td>\n",
       "      <td>-14.3306</td>\n",
       "      <td>-100.05</td>\n",
       "    </tr>\n",
       "    <tr>\n",
       "      <th>3</th>\n",
       "      <td>20200104</td>\n",
       "      <td>-10.640013</td>\n",
       "      <td>-14.3306</td>\n",
       "      <td>-100.05</td>\n",
       "    </tr>\n",
       "    <tr>\n",
       "      <th>4</th>\n",
       "      <td>20200105</td>\n",
       "      <td>-30.314440</td>\n",
       "      <td>-14.3306</td>\n",
       "      <td>-100.05</td>\n",
       "    </tr>\n",
       "  </tbody>\n",
       "</table>\n",
       "</div>"
      ],
      "text/plain": [
       "       date      value       lat     long\n",
       "0  20200101 -11.003827   13.4836  -100.05\n",
       "1  20200102 -13.456728  -14.3306  -100.05\n",
       "2  20200103  -4.284001  -14.3306  -100.05\n",
       "3  20200104 -10.640013  -14.3306  -100.05\n",
       "4  20200105 -30.314440  -14.3306  -100.05"
      ]
     },
     "execution_count": 146,
     "metadata": {},
     "output_type": "execute_result"
    }
   ],
   "source": [
    "dlyTemps_byDt = dlyTemps.groupby(['date'], as_index=False)\n",
    "dlyTemps_byDt = dlyTemps_byDt.agg({'value':'mean','lat':'min','long':'min'})\n",
    "dlyTemps_byDt.head()"
   ]
  },
  {
   "cell_type": "code",
   "execution_count": 147,
   "metadata": {},
   "outputs": [
    {
     "data": {
      "text/plain": [
       "<BarContainer object of 150 artists>"
      ]
     },
     "execution_count": 147,
     "metadata": {},
     "output_type": "execute_result"
    },
    {
     "data": {
      "image/png": "[encoded data removed]",
      "text/plain": [
       "<Figure size 432x288 with 1 Axes>"
      ]
     },
     "metadata": {
      "needs_background": "light"
     },
     "output_type": "display_data"
    }
   ],
   "source": [
    "t1 = dlyTemps_byDt['value']\n",
    "x_axis = np.arange(len(t1))\n",
    "plt.bar(x_axis, t1, color='b', alpha=0.75, align=\"center\")"
   ]
  }
 ],
 "metadata": {
  "kernelspec": {
   "display_name": "Python 3 (ipykernel)",
   "language": "python",
   "name": "python3"
  },
  "language_info": {
   "codemirror_mode": {
    "name": "ipython",
    "version": 3
   },
   "file_extension": ".py",
   "mimetype": "text/x-python",
   "name": "python",
   "nbconvert_exporter": "python",
   "pygments_lexer": "ipython3",
   "version": "3.9.13"
  }
 },
 "nbformat": 4,
 "nbformat_minor": 2
}
